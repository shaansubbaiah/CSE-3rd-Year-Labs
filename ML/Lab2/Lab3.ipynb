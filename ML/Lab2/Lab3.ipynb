{
 "cells": [
  {
   "cell_type": "code",
   "execution_count": 1,
   "metadata": {},
   "outputs": [],
   "source": [
    "import numpy as np\n",
    "import matplotlib.pyplot as plt\n",
    "import pandas as pd"
   ]
  },
  {
   "cell_type": "code",
   "execution_count": 2,
   "metadata": {},
   "outputs": [],
   "source": [
    "dataset = pd.read_csv('data.csv')\n",
    "# x1 -> height, x2 -> age\n",
    "X1 = dataset.iloc[:, 1].values\n",
    "X2 = dataset.iloc[:, 2].values\n",
    "# y1 -> weight\n",
    "y = dataset.iloc[:, -1].values"
   ]
  },
  {
   "cell_type": "code",
   "execution_count": 10,
   "metadata": {},
   "outputs": [
    {
     "name": "stdout",
     "output_type": "stream",
     "text": [
      "[5.   5.11 5.6  5.9  4.8  5.8  5.3  5.8  5.5  5.6  5.5 ]\n",
      "[45 26 30 34 40 36 19 28 23 32 38]\n",
      "['77' '47' '55' '59' '72' '60' '40' '60' '45' '58' '?']\n"
     ]
    }
   ],
   "source": [
    "print(X1)\n",
    "print(X2)\n",
    "print(y)"
   ]
  },
  {
   "cell_type": "code",
   "execution_count": 4,
   "metadata": {},
   "outputs": [
    {
     "name": "stdout",
     "output_type": "stream",
     "text": [
      "[225.   132.86 168.   200.6  192.   208.8  100.7  162.4  126.5  179.2\n",
      " 209.  ]\n"
     ]
    }
   ],
   "source": [
    "X = np.multiply(X1, X2)\n",
    "print(X)"
   ]
  },
  {
   "cell_type": "code",
   "execution_count": 5,
   "metadata": {},
   "outputs": [
    {
     "name": "stdout",
     "output_type": "stream",
     "text": [
      "[225.   132.86 168.   200.6  192.   208.8  100.7  162.4  126.5  179.2 ]\n",
      "209.0\n",
      "[77. 47. 55. 59. 72. 60. 40. 60. 45. 58.]\n"
     ]
    }
   ],
   "source": [
    "X_train = X[:-1]\n",
    "print(X_train)\n",
    "X_test = X[-1]\n",
    "print(X_test)\n",
    "\n",
    "y_train = y[:-1]\n",
    "y_train = y_train.astype(float)\n",
    "print(y_train)"
   ]
  },
  {
   "cell_type": "code",
   "execution_count": 6,
   "metadata": {},
   "outputs": [
    {
     "data": {
      "text/plain": [
       "LinearRegression()"
      ]
     },
     "execution_count": 6,
     "metadata": {},
     "output_type": "execute_result"
    }
   ],
   "source": [
    "# Fitting Simple Linear Regression to the Training set\n",
    "from sklearn.linear_model import LinearRegression\n",
    "regressor = LinearRegression()\n",
    "regressor.fit(X_train.reshape(-1, 1), y_train.reshape(-1, 1))"
   ]
  },
  {
   "cell_type": "code",
   "execution_count": 7,
   "metadata": {},
   "outputs": [],
   "source": [
    "# Predicting the Test set results\n",
    "y_pred = regressor.predict(X_test.reshape(-1, 1))"
   ]
  },
  {
   "cell_type": "code",
   "execution_count": 8,
   "metadata": {},
   "outputs": [
    {
     "data": {
      "image/png": "[encoded data removed]",
      "text/plain": [
       "<Figure size 432x288 with 1 Axes>"
      ]
     },
     "metadata": {
      "needs_background": "light"
     },
     "output_type": "display_data"
    }
   ],
   "source": [
    "# Visualizing the Training set results\n",
    "viz_train = plt\n",
    "viz_train.scatter(X_train.reshape(-1, 1), y_train.reshape(-1, 1), color='red')\n",
    "viz_train.plot(X_train.reshape(-1, 1), regressor.predict(X_train.reshape(-1, 1)), color='blue')\n",
    "viz_train.title('Height*Age VS Weight (Training set)')\n",
    "viz_train.xlabel('Height*Age')\n",
    "viz_train.ylabel('Weight')\n",
    "viz_train.show()\n"
   ]
  },
  {
   "cell_type": "code",
   "execution_count": 9,
   "metadata": {},
   "outputs": [
    {
     "data": {
      "image/png": "[encoded data removed]",
      "text/plain": [
       "<Figure size 432x288 with 1 Axes>"
      ]
     },
     "metadata": {
      "needs_background": "light"
     },
     "output_type": "display_data"
    }
   ],
   "source": [
    "# Visualizing the Test set results\n",
    "viz_test = plt\n",
    "viz_test.scatter(X_test.reshape(-1, 1), y_pred.reshape(-1, 1), color='red')\n",
    "viz_test.plot(X_train.reshape(-1, 1), regressor.predict(X_train.reshape(-1, 1)), color='blue')\n",
    "viz_train.title('Height*Age VS Weight (Test set)')\n",
    "viz_train.xlabel('Height*Age')\n",
    "viz_train.ylabel('Weight')\n",
    "viz_test.show()"
   ]
  },
  {
   "cell_type": "code",
   "execution_count": null,
   "metadata": {},
   "outputs": [],
   "source": []
  }
 ],
 "metadata": {
  "interpreter": {
   "hash": "183bbf6827d058c2a2fb0f4acdc0420849dda2b4380af0e437e38c64d798d8b7"
  },
  "kernelspec": {
   "display_name": "Python 3",
   "language": "python",
   "name": "python3"
  },
  "language_info": {
   "codemirror_mode": {
    "name": "ipython",
    "version": 3
   },
   "file_extension": ".py",
   "mimetype": "text/x-python",
   "name": "python",
   "nbconvert_exporter": "python",
   "pygments_lexer": "ipython3",
   "version": "3.9.5"
  }
 },
 "nbformat": 4,
 "nbformat_minor": 2
}
